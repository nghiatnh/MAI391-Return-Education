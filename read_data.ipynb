{
 "cells": [
  {
   "cell_type": "code",
   "execution_count": 30,
   "metadata": {},
   "outputs": [
    {
     "name": "stdout",
     "output_type": "stream",
     "text": [
      "        id  nearc2  nearc4  educ  age  fatheduc  motheduc  weight  momdad14  \\\n",
      "0        2       0       0     7   29       NaN       NaN  158413         1   \n",
      "1        3       0       0    12   27       8.0       8.0  380166         1   \n",
      "2        4       0       0    12   34      14.0      12.0  367470         1   \n",
      "3        5       1       1    11   27      11.0      12.0  380166         1   \n",
      "4        6       1       1    12   34       8.0       7.0  367470         1   \n",
      "...    ...     ...     ...   ...  ...       ...       ...     ...       ...   \n",
      "3005  5218       0       1    12   25       8.0      12.0   82135         1   \n",
      "3006  5219       0       1    13   34       NaN       NaN   88765         1   \n",
      "3007  5220       0       1    12   24      11.0       NaN   89271         0   \n",
      "3008  5221       0       1    12   31       NaN       NaN  110376         1   \n",
      "3009  5225       0       1    13   26       NaN       NaN   81081         0   \n",
      "\n",
      "      sinmom14  ...  smsa66  wage  enroll   KWW     IQ  married  libcrd14  \\\n",
      "0            0  ...       1   548       0  15.0    NaN      1.0       0.0   \n",
      "1            0  ...       1   481       0  35.0   93.0      1.0       1.0   \n",
      "2            0  ...       1   721       0  42.0  103.0      1.0       1.0   \n",
      "3            0  ...       1   250       0  25.0   88.0      1.0       1.0   \n",
      "4            0  ...       1   729       0  34.0  108.0      1.0       0.0   \n",
      "...        ...  ...     ...   ...     ...   ...    ...      ...       ...   \n",
      "3005         0  ...       0   335       0  15.0    NaN      1.0       0.0   \n",
      "3006         0  ...       0   481       0  43.0    NaN      1.0       1.0   \n",
      "3007         0  ...       0   500       0  25.0  109.0      1.0       0.0   \n",
      "3008         0  ...       0   713       0  32.0  107.0      1.0       1.0   \n",
      "3009         0  ...       0   525       1  27.0    NaN      1.0       0.0   \n",
      "\n",
      "      exper     lwage  expersq  \n",
      "0        16  6.306275      256  \n",
      "1         9  6.175867       81  \n",
      "2        16  6.580639      256  \n",
      "3        10  5.521461      100  \n",
      "4        16  6.591674      256  \n",
      "...     ...       ...      ...  \n",
      "3005      7  5.814130       49  \n",
      "3006     15  6.175867      225  \n",
      "3007      6  6.214608       36  \n",
      "3008     13  6.569481      169  \n",
      "3009      7  6.263398       49  \n",
      "\n",
      "[3010 rows x 34 columns]\n"
     ]
    }
   ],
   "source": [
    "# Import libraries\n",
    "import numpy as np\n",
    "import pandas as pd\n",
    "import matplotlib.pyplot as plt\n",
    "\n",
    "# Load the xlsx file\n",
    "excel_data = pd.read_excel('wage.xlsx', sheet_name=\"wage\")\n",
    "# Read the values of the file in the dataframe\n",
    "data = pd.DataFrame(excel_data)\n",
    "print(data)"
   ]
  },
  {
   "cell_type": "code",
   "execution_count": 31,
   "metadata": {},
   "outputs": [],
   "source": [
    "# Save data as object to file -> easy to read \n",
    "import pickle\n",
    "with open(\"wagedata.dat\", \"wb\") as f:\n",
    "    pickle.dump(data, f)\n"
   ]
  },
  {
   "cell_type": "code",
   "execution_count": 32,
   "metadata": {},
   "outputs": [],
   "source": [
    "# Save all data points\n",
    "def save_all(path, logfile):\n",
    "    wage = np.array(data[\"lwage\"])\n",
    "    flog = open(logfile, \"w\")\n",
    "    for x in data.columns:\n",
    "        plt.cla()\n",
    "        plt.xlabel(x)\n",
    "        plt.ylabel(\"wage\")\n",
    "        plt.title(x+\" - wage\")\n",
    "        dtx = data[x]\n",
    "        plt.plot(dtx, wage, \"ro\")\n",
    "        plt.savefig(path + x + \".png\")\n",
    "        flog.write(\"data {0} is {1}\\n\".format(x, dtx))\n",
    "    flog.close()"
   ]
  },
  {
   "cell_type": "code",
   "execution_count": 33,
   "metadata": {},
   "outputs": [],
   "source": [
    "# Save mean of each data point\n",
    "def save_mean(path, logfile):\n",
    "    flog = open(logfile, \"w\")\n",
    "    for x in data.columns:\n",
    "        plt.cla()\n",
    "        plt.xlabel(x)\n",
    "        plt.ylabel(\"average wage\")\n",
    "        plt.title(x+\" - average wage\")\n",
    "        for dtx in set(data[x]):\n",
    "            y = data[data[x] == dtx][\"lwage\"].mean()\n",
    "            plt.plot(dtx, y, \"ro\")\n",
    "        plt.savefig(path + x + \".png\")\n",
    "        flog.write(\"data {0} is done\\n\".format(x))\n",
    "    flog.close()"
   ]
  },
  {
   "cell_type": "code",
   "execution_count": 34,
   "metadata": {},
   "outputs": [
    {
     "data": {
      "image/png": "[encoded data removed]",
      "text/plain": [
       "<Figure size 432x288 with 1 Axes>"
      ]
     },
     "metadata": {
      "needs_background": "light"
     },
     "output_type": "display_data"
    }
   ],
   "source": [
    "# Save all to images folder (Create images folder before run this code)\n",
    "save_all(\"./images/\", \"log_all.txt\")"
   ]
  },
  {
   "cell_type": "code",
   "execution_count": 35,
   "metadata": {},
   "outputs": [
    {
     "data": {
      "image/png": "[encoded data removed]",
      "text/plain": [
       "<Figure size 432x288 with 1 Axes>"
      ]
     },
     "metadata": {
      "needs_background": "light"
     },
     "output_type": "display_data"
    }
   ],
   "source": [
    "# Save mean to mean_images folder (Create mean_images folder before run this code)\n",
    "save_mean(\"./mean_images/\", \"log_mean.txt\")"
   ]
  }
 ],
 "metadata": {
  "kernelspec": {
   "display_name": "Python 3.10.4 64-bit",
   "language": "python",
   "name": "python3"
  },
  "language_info": {
   "codemirror_mode": {
    "name": "ipython",
    "version": 3
   },
   "file_extension": ".py",
   "mimetype": "text/x-python",
   "name": "python",
   "nbconvert_exporter": "python",
   "pygments_lexer": "ipython3",
   "version": "3.10.4"
  },
  "orig_nbformat": 4,
  "vscode": {
   "interpreter": {
    "hash": "5b6fb85f812c89b156a57296305591057e280590319a8656fd8d970154557d3b"
   }
  }
 },
 "nbformat": 4,
 "nbformat_minor": 2
}
